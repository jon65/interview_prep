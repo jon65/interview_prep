{
 "cells": [
  {
   "cell_type": "markdown",
   "metadata": {},
   "source": [
    "Longest Consecutive Sequence\n",
    "Given an array of integers nums, return the length of the longest consecutive sequence of elements that can be formed.\n",
    "\n",
    "A consecutive sequence is a sequence of elements in which each element is exactly 1 greater than the previous element. The elements do not have to be consecutive in the original array.\n",
    "\n",
    "You must write an algorithm that runs in O(n) time.\n",
    "\n",
    "Example 1:\n",
    "\n",
    "Input: nums = [2,20,4,10,3,4,5]\n",
    "\n",
    "Output: 4\n",
    "Explanation: The longest consecutive sequence is [2, 3, 4, 5]"
   ]
  },
  {
   "cell_type": "code",
   "execution_count": null,
   "metadata": {},
   "outputs": [
    {
     "name": "stdout",
     "output_type": "stream",
     "text": [
      "defaultdict(<class 'int'>, {0: 1, -1: 0, 1: 0})\n",
      "defaultdict(<class 'int'>, {0: 1, -1: 0, 1: 0, 3: 1, 2: 0, 4: 0})\n",
      "defaultdict(<class 'int'>, {0: 1, -1: 0, 1: 0, 3: 2, 2: 2, 4: 0})\n",
      "defaultdict(<class 'int'>, {0: 1, -1: 0, 1: 0, 3: 2, 2: 2, 4: 0, 5: 1, 6: 0})\n",
      "defaultdict(<class 'int'>, {0: 1, -1: 0, 1: 0, 3: 2, 2: 4, 4: 4, 5: 4, 6: 0})\n",
      "defaultdict(<class 'int'>, {0: 1, -1: 0, 1: 0, 3: 2, 2: 5, 4: 4, 5: 4, 6: 5, 7: 0})\n",
      "defaultdict(<class 'int'>, {0: 7, -1: 0, 1: 7, 3: 2, 2: 5, 4: 4, 5: 4, 6: 7, 7: 0})\n",
      "defaultdict(<class 'int'>, {0: 7, -1: 0, 1: 7, 3: 2, 2: 5, 4: 4, 5: 4, 6: 7, 7: 0})\n",
      "7\n"
     ]
    }
   ],
   "source": [
    "from collections import defaultdict\n",
    "from typing import List\n",
    "\n",
    "\n",
    "\n",
    "class Solution:\n",
    "    def longestConsecutive(self, nums: List[int]) -> int:\n",
    "        mp = defaultdict(int)\n",
    "        res = 0\n",
    "\n",
    "        for num in nums:\n",
    "            if not mp[num]:\n",
    "                mp[num] = mp[num - 1] + mp[num + 1] + 1\n",
    "                mp[num - mp[num - 1]] = mp[num]\n",
    "                mp[num + mp[num + 1]] = mp[num]\n",
    "                res = max(res, mp[num])\n",
    "            print(mp)\n",
    "        return res\n",
    "\n",
    "class Solution:\n",
    "    def longestConsecutive(self, nums: List[int]) -> int:\n",
    "        count = set(nums)\n",
    "        max_len = 0\n",
    "        for ele in nums:\n",
    "            if (num -1) not in count:\n",
    "                length = 1\n",
    "                while (num + length) in count:\n",
    "                    length +=1\n",
    "                max_len = max(length, longest)\n",
    "\n",
    "        return max_len\n",
    "nums = [0,3,2,5,4,6,1,1]\n",
    "print(Solution().longestConsecutive(nums))"
   ]
  },
  {
   "cell_type": "markdown",
   "metadata": {},
   "source": [
    "TO FIND MAX OF something\n",
    "look left and right ele\n",
    "take val of left and right ele\n",
    "update left and right ele by setting value as the max \n",
    "\n",
    "             mp[num] = mp[num - 1] + mp[num + 1] + 1\n",
    "                mp[num - mp[num - 1]] = mp[num]\n",
    "                mp[num + mp[num + 1]] = mp[num]\n",
    "                res = max(res, mp[num])\n"
   ]
  }
 ],
 "metadata": {
  "kernelspec": {
   "display_name": "mlp",
   "language": "python",
   "name": "python3"
  },
  "language_info": {
   "codemirror_mode": {
    "name": "ipython",
    "version": 3
   },
   "file_extension": ".py",
   "mimetype": "text/x-python",
   "name": "python",
   "nbconvert_exporter": "python",
   "pygments_lexer": "ipython3",
   "version": "3.8.18"
  }
 },
 "nbformat": 4,
 "nbformat_minor": 2
}
