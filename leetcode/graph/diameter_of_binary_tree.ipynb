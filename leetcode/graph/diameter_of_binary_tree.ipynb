{
 "cells": [
  {
   "cell_type": "markdown",
   "metadata": {},
   "source": [
    "Diameter of Binary Tree\n",
    "The diameter of a binary tree is defined as the length of the longest path between any two nodes within the tree. The path does not necessarily have to pass through the root.\n",
    "\n",
    "The length of a path between two nodes in a binary tree is the number of edges between the nodes.\n",
    "\n",
    "Given the root of a binary tree root, return the diameter of the tree."
   ]
  },
  {
   "cell_type": "code",
   "execution_count": null,
   "metadata": {},
   "outputs": [],
   "source": [
    "\n",
    "class Solution:\n",
    "    def diameterOfBinaryTree(self, root: Optional[TreeNode]) -> int:\n",
    "        if not root:\n",
    "            return 0\n",
    "        \n",
    "        leftHeight = self.maxHeight(root.left)\n",
    "        rightHeight = self.maxHeight(root.right)\n",
    "        diameter = leftHeight + rightHeight \n",
    "        sub = max(self.diameterOfBinaryTree(root.left),\n",
    "                  self.diameterOfBinaryTree(root.right))\n",
    "        return max(diameter, sub)\n",
    "\n",
    "\n",
    "    def maxHeight(self, root: Optional[TreeNode]) -> int:\n",
    "        if not root:\n",
    "            return 0\n",
    "\n",
    "        return 1 + max(self.maxHeight(root.left), self.maxHeight(root.right))"
   ]
  }
 ],
 "metadata": {
  "language_info": {
   "name": "python"
  }
 },
 "nbformat": 4,
 "nbformat_minor": 2
}
