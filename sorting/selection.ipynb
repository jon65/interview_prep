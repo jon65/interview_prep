{
 "cells": [
  {
   "cell_type": "markdown",
   "metadata": {},
   "source": [
    "SELECTION SORT\n",
    "\n",
    "Consider list to be sorted as being divided into two parts:\n",
    "\n",
    "1. search the unsorted part for the smallest element\n",
    "2. swap smallest element with first element of the unsorted part\n",
    "3. sorted part is now one element longer\n"
   ]
  },
  {
   "cell_type": "code",
   "execution_count": null,
   "metadata": {},
   "outputs": [],
   "source": [
    "def selection_sort(input_list):\n",
    "    l = len(input_list)\n",
    "    for i in range(l):\n",
    "        # Assume the first unsorted element is the smallest\n",
    "        min_index = i\n",
    "        for j in range(i + 1, l):\n",
    "            if input_list[j] < input_list[min_index]:\n",
    "                min_index = j\n",
    "        # Swap the found minimum element with the first unsorted element\n",
    "        input_list[i], input_list[min_index] = input_list[min_index], input_list[i]\n",
    "    return input_list\n"
   ]
  },
  {
   "cell_type": "markdown",
   "metadata": {},
   "source": []
  }
 ],
 "metadata": {
  "kernelspec": {
   "display_name": "mlp",
   "language": "python",
   "name": "python3"
  },
  "language_info": {
   "codemirror_mode": {
    "name": "ipython",
    "version": 3
   },
   "file_extension": ".py",
   "mimetype": "text/x-python",
   "name": "python",
   "nbconvert_exporter": "python",
   "pygments_lexer": "ipython3",
   "version": "3.8.18"
  }
 },
 "nbformat": 4,
 "nbformat_minor": 2
}
