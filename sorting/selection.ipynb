{
 "cells": [
  {
   "cell_type": "markdown",
   "metadata": {},
   "source": [
    "SELECTION SORT\n",
    "\n",
    "Consider list to be sorted as being divided into two parts:\n",
    "\n",
    "1. search the unsorted part for the smallest element\n",
    "2. swap smallest element with first element of the unsorted part\n",
    "3. sorted part is now one element longer\n",
    "\n",
    "array[1..i-1] - sorted part\n",
    "array[i...n] - yet to be sorted\n",
    "\n",
    "invariant\n",
    "1. array [1...i-1] is sorted\n",
    "2. for any x in array[1...i-1] and y in array[i...n] x<=y\n",
    "stable\n"
   ]
  },
  {
   "cell_type": "code",
   "execution_count": 3,
   "metadata": {},
   "outputs": [
    {
     "name": "stdout",
     "output_type": "stream",
     "text": [
      "[11, 12, 12, 12, 22]\n"
     ]
    }
   ],
   "source": [
    "def selection_sort(input_list):\n",
    "    l = len(input_list)\n",
    "    #go through all elements in unsorted list\n",
    "    for i in range(l):\n",
    "        #take input[i] as min\n",
    "        min = i\n",
    "        #iterate through rest of list\n",
    "        for j in range(i+1, l):\n",
    "            #if index is smaller swap\n",
    "            if input_list[min] > input_list[j]:\n",
    "                min = j\n",
    "        #swap smallest with min\n",
    "        temp = input_list[i]\n",
    "        input_list[i] = input_list[min]\n",
    "        input_list[j] = temp\n",
    "    return input_list\n",
    "\n",
    "unsorted_list = [64, 25, 12, 22, 11]\n",
    "sorted_list = selection_sort(unsorted_list)\n",
    "print(sorted_list)  # Output: [11, 12, 22, 25, 64]"
   ]
  },
  {
   "cell_type": "markdown",
   "metadata": {},
   "source": [
    "INSERTION SORT\n",
    "weaker invariant than selection sort\n",
    "\n",
    "invariant\n",
    "array[1...i-1] is sorted\n"
   ]
  },
  {
   "cell_type": "code",
   "execution_count": null,
   "metadata": {},
   "outputs": [
    {
     "name": "stdout",
     "output_type": "stream",
     "text": [
      "[5, 6, 11, 12, 13]\n"
     ]
    }
   ],
   "source": [
    "def insertion_sort(arr):\n",
    "    l = len(arr)\n",
    "    # Iterate through i+1 -> end\n",
    "    for i in range(1, l):\n",
    "        # Take arr[i]\n",
    "        key = arr[i]\n",
    "        j = i - 1\n",
    "        # Iterate through all elements in arr[i-1..0]\n",
    "        # If arr[j] > key -> shift arr[j] to the right\n",
    "        while j >= 0 and arr[j] > key:\n",
    "            arr[j + 1] = arr[j]\n",
    "            j -= 1\n",
    "        # Place the key at the correct position\n",
    "        arr[j + 1] = key\n",
    "unsorted_list = [12, 11, 13, 5, 6]\n",
    "insertion_sort(unsorted_list)\n",
    "print(unsorted_list)\n",
    "\n"
   ]
  }
 ],
 "metadata": {
  "kernelspec": {
   "display_name": "mlp",
   "language": "python",
   "name": "python3"
  },
  "language_info": {
   "codemirror_mode": {
    "name": "ipython",
    "version": 3
   },
   "file_extension": ".py",
   "mimetype": "text/x-python",
   "name": "python",
   "nbconvert_exporter": "python",
   "pygments_lexer": "ipython3",
   "version": "3.8.18"
  }
 },
 "nbformat": 4,
 "nbformat_minor": 2
}
