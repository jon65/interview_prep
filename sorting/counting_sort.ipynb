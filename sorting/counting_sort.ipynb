{
 "cells": [
  {
   "cell_type": "markdown",
   "metadata": {},
   "source": [
    "Counting Sort\n",
    "\n",
    "sorting positive integers\n",
    "determine the maximum value in the input\n",
    "create an array count of that size\n",
    "\n"
   ]
  },
  {
   "cell_type": "markdown",
   "metadata": {},
   "source": [
    "Bucket Sort\n",
    "\n",
    "divides unsorted array elements into several groups called buckets. Each bucket is then sorted by using any of the suitable sorting algorithm \n"
   ]
  },
  {
   "cell_type": "markdown",
   "metadata": {},
   "source": [
    "Top K element"
   ]
  },
  {
   "cell_type": "code",
   "execution_count": null,
   "metadata": {},
   "outputs": [],
   "source": [
    "#bucket sort\n",
    "\n",
    "def bucket_sort(arr, k):\n",
    "    count = {}\n",
    "    buckets = [[] for i in range(len(arr)+1)]\n",
    "    for ele in arr:\n",
    "        count[ele] = count.get(ele, 0) + 1\n",
    "    \n",
    "    for key, vals in count.items():\n",
    "        buckets[vals].append(key)\n",
    "\n",
    "    res = []\n",
    "    for i in range(len(buckets), -1, 0):\n",
    "        for val in buckets[i]:\n",
    "            res.append(val)\n",
    "            if len(res) == k:\n",
    "                return res"
   ]
  },
  {
   "cell_type": "code",
   "execution_count": null,
   "metadata": {},
   "outputs": [],
   "source": []
  }
 ],
 "metadata": {
  "language_info": {
   "name": "python"
  }
 },
 "nbformat": 4,
 "nbformat_minor": 2
}
