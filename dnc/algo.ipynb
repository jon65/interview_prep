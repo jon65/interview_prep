{
 "cells": [
  {
   "cell_type": "markdown",
   "metadata": {},
   "source": [
    "mergesort\n",
    "\n",
    "sorts a given sequence by dividing it into two halves, sorting those halves and then merging the sorted halves back together.\n",
    "\n",
    "How does it sort the two halves?\n",
    "the key part of merge sort is the merge routine which takes two sorted sequence and interleavessz them together to obtain a single sorted seq\n",
    "\n",
    "observe that this merge routine is stable since we write A[i] <= B[j]>\n",
    "\n",
    "sorting arrays by divide and conquer\n",
    "\n",
    "def merge_sort(arr):\n",
    "    if len(arr) > 1:\n",
    "        split(arr, first_part, second_part)\n",
    "        sort(first_part)\n",
    "        sort(second_part)\n",
    "        combine(first_part, second_part)"
   ]
  },
  {
   "cell_type": "code",
   "execution_count": null,
   "metadata": {},
   "outputs": [],
   "source": []
  }
 ],
 "metadata": {
  "language_info": {
   "name": "python"
  }
 },
 "nbformat": 4,
 "nbformat_minor": 2
}
