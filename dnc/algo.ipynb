{
 "cells": [
  {
   "cell_type": "markdown",
   "metadata": {},
   "source": [
    "mergesort\n",
    "\n",
    "sorts a given sequence by dividing it into two halves, sorting those halves and then merging the sorted halves back together.\n",
    "\n",
    "How does it sort the two halves?\n",
    "the key part of merge sort is the merge routine which takes two sorted sequence and interleavessz them together to obtain a single sorted seq\n",
    "\n",
    "observe that this merge routine is stable since we write A[i] <= B[j]>\n",
    "\n",
    "sorting arrays by divide and conquer\n",
    "\n",
    "def merge_sort(arr):\n",
    "    if len(arr) > 1:\n",
    "        split(arr, first_part, second_part)\n",
    "        sort(first_part)\n",
    "        sort(second_part)\n",
    "        combine(first_part, second_part)"
   ]
  },
  {
   "cell_type": "code",
   "execution_count": null,
   "metadata": {},
   "outputs": [],
   "source": [
    "def merge_arrays(arr, start, mid, end, tmp):\n",
    "    ia = start\n",
    "    ib = mid+1\n",
    "    for k in range(start, end+1):\n",
    "        if ia > mid:\n",
    "            tmp[k] = arr[ib]\n",
    "            ib +=1\n",
    "        elif ib > end:\n",
    "            tmp[k] = arr[ia]\n",
    "            ia +=1 \n",
    "        elif arr[ia] <= arr[ib]:\n",
    "            tmp[k] = arr[ia]\n",
    "            ia +=1\n",
    "        else:\n",
    "            tmp[k] = arr[ib]\n",
    "            ib +=1 \n",
    "\n",
    "def merge_sort_aux(arr, start, end, tmp):\n",
    "    if not start == end:\n",
    "        mid = (start + end)//2\n",
    "        #split into two halves\n",
    "        merge_sort_aux(arr, start, mid, tmp)\n",
    "        merge_sort_aux(arr, mid+1, end, tmp)\n",
    "        # merge\n",
    "        merge_arrays(arr, start, mid, end, tmp)\n",
    "        # copyy tmp back into the original\n",
    "        for i in range(start, end+1):\n",
    "            arr[i] = tmp[i]\n",
    "\n",
    "def merge_sort(arr):\n",
    "    tmp = []*len(arr)\n",
    "    start = 0\n",
    "    end = len(arr) -1\n",
    "    merge_sort_aux(arr, start, end, tmp)"
   ]
  }
 ],
 "metadata": {
  "language_info": {
   "name": "python"
  }
 },
 "nbformat": 4,
 "nbformat_minor": 2
}
