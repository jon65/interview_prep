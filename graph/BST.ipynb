{
 "cells": [
  {
   "cell_type": "markdown",
   "metadata": {
    "vscode": {
     "languageId": "plaintext"
    }
   },
   "source": [
    " BST\n",
    "There are three types of depth first traversals:\n",
    "\n",
    "Pre-Order Traversal: We first visit the root, then the the left subtree and right subtree.\n",
    "\n",
    "In-Order Traversal: We first visit the left subtree, then the root and right subtree.\n",
    "\n",
    "Post-Order Traversal: We first visit the left subtree, then the right subtree and root."
   ]
  },
  {
   "cell_type": "code",
   "execution_count": null,
   "metadata": {},
   "outputs": [],
   "source": [
    "class Node:\n",
    "    def __init__(self, key):\n",
    "        self.left = None\n",
    "        self.right = None\n",
    "        self.val = key\n",
    "\n",
    "    def traversePreOrder(self):\n",
    "        print(self.val, end=' ')\n",
    "        if self.left:\n",
    "            self.left.traversePreOrder()\n",
    "        if self.right:\n",
    "            self.right.traversePreOrder()\n",
    "    \n",
    "    def traverseInOrder(self):\n",
    "        "
   ]
  }
 ],
 "metadata": {
  "language_info": {
   "name": "python"
  }
 },
 "nbformat": 4,
 "nbformat_minor": 2
}
